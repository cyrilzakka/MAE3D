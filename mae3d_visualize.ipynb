{
 "cells": [
  {
   "cell_type": "markdown",
   "metadata": {},
   "source": [
    "# Masked Autoencoders As Spatiotemporal Learners\n",
    "This is a visualization demo showcasing a pre-trained MAE-3D model."
   ]
  },
  {
   "cell_type": "markdown",
   "metadata": {},
   "source": [
    "### Installation\n"
   ]
  },
  {
   "cell_type": "code",
   "execution_count": null,
   "metadata": {},
   "outputs": [],
   "source": [
    "# Clone the repository and install dependencies\n",
    "!git clone https://github.com/cyrilzakka/MAE3D\n",
    "%cd MAE3D\n",
    "!pip install -r requirements.txt"
   ]
  },
  {
   "cell_type": "markdown",
   "metadata": {},
   "source": [
    "### Visualization"
   ]
  },
  {
   "cell_type": "code",
   "execution_count": null,
   "metadata": {},
   "outputs": [],
   "source": [
    "import torch\n",
    "import numpy as np\n",
    "\n",
    "import matplotlib.pyplot as plt\n",
    "from mpl_toolkits.axes_grid1 import ImageGrid\n",
    "\n",
    "import models_mae3d\n",
    "\n",
    "\n",
    "IMAGENET_MEAN = np.array([0.485, 0.456, 0.406])\n",
    "IMAGENET_STD = np.array([0.229, 0.224, 0.225])\n",
    "\n",
    "\n",
    "def show_sequence(seq, title=''):\n",
    "    '''Plot a sequence of images horizontally'''\n",
    "    # clip is [T, H, W, 3]\n",
    "    assert (seq.shape[-1] == 3) \n",
    "    fig = plt.figure(figsize=(20, 2.5))\n",
    "    fig.suptitle(title, fontsize=16)\n",
    "    grid = ImageGrid(fig, 111, nrows_ncols=(1, 8), axes_pad=0.1)\n",
    "    for ax, img in zip(grid, seq):\n",
    "        ax.imshow(torch.clip((img * IMAGENET_STD + IMAGENET_MEAN) * 255, 0, 255).int())\n",
    "        ax.set_axis_off()\n",
    "    plt.show()\n",
    "    return\n",
    "\n",
    "def prepare_model(chkpt_dir, arch='mae3d_vit_large_patch16'):\n",
    "    '''Retrieve model from checkpoint'''\n",
    "    # build model\n",
    "    model = getattr(models_mae3d, arch)()\n",
    "    # load model\n",
    "    checkpoint = torch.load(chkpt_dir, map_location='cpu')\n",
    "    msg = model.load_state_dict(checkpoint['model'], strict=False)\n",
    "    print(msg)\n",
    "    return model\n",
    "\n",
    "def run_one_image(seq, model):\n",
    "    '''Run model on one video sequence'''\n",
    "    x = torch.tensor(seq)\n",
    "\n",
    "    # make it a batch-like\n",
    "    x = x.unsqueeze(dim=0)\n",
    "    x = torch.einsum('nthwc->ntchw', x)\n",
    "\n",
    "    # run MAE\n",
    "    loss, y, mask = model(x.float(), mask_ratio=0.90)\n",
    "    y = model.unpatchify3D(y)\n",
    "    y = torch.einsum('ntchw->nthwc', y).detach().cpu()\n",
    "\n",
    "    # visualize the mask\n",
    "    mask = mask.detach()\n",
    "    mask = mask.unsqueeze(-1).repeat(1, 1, model.patch_embed.patch_size[1]**2 *3)  # (N, H*W, p*p*3)\n",
    "    mask = model.unpatchify3D(mask)  # 1 is removing, 0 is keeping\n",
    "    mask = torch.einsum('ntchw->nthwc', mask).detach().cpu()\n",
    "    \n",
    "    x = torch.einsum('ntchw->nthwc', x)\n",
    "\n",
    "    # masked image\n",
    "    im_masked = x * (1 - mask)\n",
    "\n",
    "    # MAE reconstruction pasted with visible patches\n",
    "    im_paste = x * (1 - mask) + y * mask\n",
    "\n",
    "    # make the plt figure larger\n",
    "    plt.rcParams['figure.figsize'] = [20, 10]\n",
    "\n",
    "    plt.subplot(1, 4, 1)\n",
    "    show_sequence(x[0], \"original\")\n",
    "\n",
    "    plt.subplot(1, 4, 2)\n",
    "    show_sequence(im_masked[0], \"masked\")\n",
    "\n",
    "    plt.subplot(1, 4, 3)\n",
    "    show_sequence(y[0], \"reconstruction\")\n",
    "\n",
    "    plt.subplot(1, 4, 4)\n",
    "    show_sequence(im_paste[0], \"reconstruction + visible\")\n",
    "\n",
    "    plt.show()"
   ]
  },
  {
   "cell_type": "markdown",
   "metadata": {},
   "source": []
  }
 ],
 "metadata": {
  "kernelspec": {
   "display_name": "Python 3.9.10 64-bit",
   "language": "python",
   "name": "python3"
  },
  "language_info": {
   "codemirror_mode": {
    "name": "ipython",
    "version": 3
   },
   "file_extension": ".py",
   "mimetype": "text/x-python",
   "name": "python",
   "nbconvert_exporter": "python",
   "pygments_lexer": "ipython3",
   "version": "3.9.10"
  },
  "orig_nbformat": 4,
  "vscode": {
   "interpreter": {
    "hash": "aee8b7b246df8f9039afb4144a1f6fd8d2ca17a180786b69acc140d282b71a49"
   }
  }
 },
 "nbformat": 4,
 "nbformat_minor": 2
}
